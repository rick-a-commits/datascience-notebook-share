{
 "cells": [
  {
   "cell_type": "markdown",
   "id": "d13c034a-c182-4c3a-8095-21243a9d36a5",
   "metadata": {},
   "source": [
    "# Data Science Tools and Ecosystem"
   ]
  },
  {
   "cell_type": "markdown",
   "id": "b97c7d50-6b99-45d4-a152-f0ccd4828b38",
   "metadata": {},
   "source": [
    "In this notebook, Data Science Tools and Ecosystem are summarized."
   ]
  },
  {
   "cell_type": "markdown",
   "id": "f74cceee-f147-4c66-974b-03cfbcc71470",
   "metadata": {},
   "source": [
    "**Objectives**:\n",
    "* Popular languages for Data Scientists\n",
    "* Commonly used libraries by Data Scientists\n",
    "* Data Science Tools\n",
    "* Arithmetic expressions in Python"
   ]
  },
  {
   "cell_type": "markdown",
   "id": "5060a240-9885-49e3-bc81-0793083a7bea",
   "metadata": {},
   "source": [
    "Some of the popular languages that Data Scientists use are:\n",
    "1. Python\n",
    "2. SQL\n",
    "3. R\n",
    "4. Scala\n",
    "5. Java\n",
    "6. Julia"
   ]
  },
  {
   "cell_type": "markdown",
   "id": "71489133-78c7-46d6-9a12-da6a75fbf8dd",
   "metadata": {},
   "source": [
    "Some of the commonly used libraries used by Data Scientists include:\n",
    "1. Pandas (Python)\n",
    "2. Numpy (Python)\n",
    "3. GGPlot(R)\n",
    "4. Scikit-learn (Python)\n",
    "5. Scipy (Python)"
   ]
  },
  {
   "cell_type": "markdown",
   "id": "013b9be4-9a8f-4040-82fe-8099d0d2a589",
   "metadata": {},
   "source": [
    "|**Data Science Tools**|\n",
    "|----------------------|\n",
    "| Jupyter Notebooks|\n",
    "| VS Code |\n",
    "| Google Colab |"
   ]
  },
  {
   "cell_type": "markdown",
   "id": "51cd4791-65f9-4a91-949a-50b53d14bf25",
   "metadata": {},
   "source": [
    "### Below are a few examples of evaluating arithmetic expressions in Python"
   ]
  },
  {
   "cell_type": "code",
   "execution_count": 21,
   "id": "41fc3026-5439-4063-be25-05dd5da8851f",
   "metadata": {},
   "outputs": [
    {
     "data": {
      "text/plain": [
       "17"
      ]
     },
     "execution_count": 21,
     "metadata": {},
     "output_type": "execute_result"
    }
   ],
   "source": [
    "#This is a simple arithmetic expression to multiply then add integers\n",
    "(3*4)+5"
   ]
  },
  {
   "cell_type": "code",
   "execution_count": 23,
   "id": "d72ad96d-2222-4d9d-9520-a5c9d7d8f2f7",
   "metadata": {},
   "outputs": [
    {
     "data": {
      "text/plain": [
       "3.3333333333333335"
      ]
     },
     "execution_count": 23,
     "metadata": {},
     "output_type": "execute_result"
    }
   ],
   "source": [
    "# This will convert 200 minutes to hours by dividing by 60\n",
    "200/60"
   ]
  },
  {
   "cell_type": "markdown",
   "id": "10db6b2d-989f-4dcb-8cb6-a548607fbfc6",
   "metadata": {},
   "source": [
    "## Author\n",
    "Ricky Ansong"
   ]
  },
  {
   "cell_type": "code",
   "execution_count": null,
   "id": "d9145c7b-bc68-4ee4-a41c-2aee738058ba",
   "metadata": {},
   "outputs": [],
   "source": []
  }
 ],
 "metadata": {
  "kernelspec": {
   "display_name": "Python 3 (ipykernel)",
   "language": "python",
   "name": "python3"
  },
  "language_info": {
   "codemirror_mode": {
    "name": "ipython",
    "version": 3
   },
   "file_extension": ".py",
   "mimetype": "text/x-python",
   "name": "python",
   "nbconvert_exporter": "python",
   "pygments_lexer": "ipython3",
   "version": "3.9.12"
  }
 },
 "nbformat": 4,
 "nbformat_minor": 5
}
